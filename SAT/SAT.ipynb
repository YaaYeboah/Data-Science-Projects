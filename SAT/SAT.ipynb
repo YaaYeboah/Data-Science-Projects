{
    "metadata": {
        "kernelspec": {
            "name": "python3",
            "display_name": "Python 3",
            "language": "python"
        }
    },
    "nbformat": 4,
    "nbformat_minor": 2,
    "cells": [
        {
            "cell_type": "code",
            "execution_count": 1068,
            "metadata": {},
            "outputs": [],
            "source": [
                "import pandas as pd \n",
                "import numpy as np\n",
                "import matplotlib.pyplot as plt \n",
                "%matplotlib inline\n",
                "import sklearn as sk \n",
                "from  sklearn.model_selection import train_test_split \n",
                "from sklearn.linear_model import LinearRegression"
            ]
        },
        {
            "attachments": {},
            "cell_type": "markdown",
            "metadata": {},
            "source": [
                "\n",
                "\n",
                "## Setting\n",
                "\n",
                " \n",
                "\u003cimg src=\"https://i1.sndcdn.com/artworks-000502633698-vxm3q1-t500x500.jpg\" alt=\"Someone study\" width=\"200\" height=\"200\"\u003e\n",
                "\n",
                "The dataset contains data on the grade point average (GPA) of students enrolled in a fairly large research university that also supports men’s and women’s athletics at the Division I level.  The number of observations equals 4137 (students). This data set includes the following variables: \n",
                "\n",
                "|variables|description|\n",
                "|---|---|\n",
                "|Sat | combined SAT score |\n",
                "|tothrs |  total hours of classes taken through fall semester |\n",
                "|colgpa|GPA after fall semester |\n",
                "|athlete|=1 if athlete |\n",
                "|verbmath|verbal/math SAT score |\n",
                "|hsize|size graduating class, 100s |\n",
                "|shrank|rank in graduating class |\n",
                "|hsperc|high school percentile, from top |\n",
                "|female|=1 if female |\n",
                "|white|=1 if white |\n",
                "|black|=1 if black |\n",
                "|minority|=1 if nonblack and nonwhite  |\n",
                "\n",
                " \n",
                "\n",
                "  \n",
                "\n",
                "Scholastic Assessment Test (SAT) is the national standardized test taken by all four-year college-bound students in the United States. \n",
                ""
            ]
        },
        {
            "cell_type": "code",
            "execution_count": 1069,
            "metadata": {},
            "outputs": [
                {
                    "data": {
                        "text/html": "\u003cdiv\u003e\n\u003cstyle scoped\u003e\n    .dataframe tbody tr th:only-of-type {\n        vertical-align: middle;\n    }\n\n    .dataframe tbody tr th {\n        vertical-align: top;\n    }\n\n    .dataframe thead th {\n        text-align: right;\n    }\n\u003c/style\u003e\n\u003ctable border=\"1\" class=\"dataframe\"\u003e\n  \u003cthead\u003e\n    \u003ctr style=\"text-align: right;\"\u003e\n      \u003cth\u003e\u003c/th\u003e\n      \u003cth\u003esat\u003c/th\u003e\n      \u003cth\u003etothrs\u003c/th\u003e\n      \u003cth\u003ecolgpa\u003c/th\u003e\n      \u003cth\u003eathlete\u003c/th\u003e\n      \u003cth\u003everbmath\u003c/th\u003e\n      \u003cth\u003ehsize\u003c/th\u003e\n      \u003cth\u003ehsrank\u003c/th\u003e\n      \u003cth\u003ehsperc\u003c/th\u003e\n      \u003cth\u003efemale\u003c/th\u003e\n      \u003cth\u003ewhite\u003c/th\u003e\n      \u003cth\u003eblack\u003c/th\u003e\n      \u003cth\u003eminority\u003c/th\u003e\n    \u003c/tr\u003e\n  \u003c/thead\u003e\n  \u003ctbody\u003e\n    \u003ctr\u003e\n      \u003cth\u003e0\u003c/th\u003e\n      \u003ctd\u003e920\u003c/td\u003e\n      \u003ctd\u003e43\u003c/td\u003e\n      \u003ctd\u003e2.04\u003c/td\u003e\n      \u003ctd\u003e1\u003c/td\u003e\n      \u003ctd\u003e0.48387\u003c/td\u003e\n      \u003ctd\u003e0.10\u003c/td\u003e\n      \u003ctd\u003e4\u003c/td\u003e\n      \u003ctd\u003e40.000000\u003c/td\u003e\n      \u003ctd\u003e1\u003c/td\u003e\n      \u003ctd\u003e0\u003c/td\u003e\n      \u003ctd\u003e0\u003c/td\u003e\n      \u003ctd\u003e1\u003c/td\u003e\n    \u003c/tr\u003e\n    \u003ctr\u003e\n      \u003cth\u003e1\u003c/th\u003e\n      \u003ctd\u003e1170\u003c/td\u003e\n      \u003ctd\u003e18\u003c/td\u003e\n      \u003ctd\u003e4.00\u003c/td\u003e\n      \u003ctd\u003e0\u003c/td\u003e\n      \u003ctd\u003e0.82813\u003c/td\u003e\n      \u003ctd\u003e9.40\u003c/td\u003e\n      \u003ctd\u003e191\u003c/td\u003e\n      \u003ctd\u003e20.319150\u003c/td\u003e\n      \u003ctd\u003e0\u003c/td\u003e\n      \u003ctd\u003e1\u003c/td\u003e\n      \u003ctd\u003e0\u003c/td\u003e\n      \u003ctd\u003e0\u003c/td\u003e\n    \u003c/tr\u003e\n    \u003ctr\u003e\n      \u003cth\u003e2\u003c/th\u003e\n      \u003ctd\u003e810\u003c/td\u003e\n      \u003ctd\u003e14\u003c/td\u003e\n      \u003ctd\u003e1.78\u003c/td\u003e\n      \u003ctd\u003e1\u003c/td\u003e\n      \u003ctd\u003e0.88372\u003c/td\u003e\n      \u003ctd\u003e1.19\u003c/td\u003e\n      \u003ctd\u003e42\u003c/td\u003e\n      \u003ctd\u003e35.294120\u003c/td\u003e\n      \u003ctd\u003e0\u003c/td\u003e\n      \u003ctd\u003e1\u003c/td\u003e\n      \u003ctd\u003e0\u003c/td\u003e\n      \u003ctd\u003e0\u003c/td\u003e\n    \u003c/tr\u003e\n    \u003ctr\u003e\n      \u003cth\u003e3\u003c/th\u003e\n      \u003ctd\u003e940\u003c/td\u003e\n      \u003ctd\u003e40\u003c/td\u003e\n      \u003ctd\u003e2.42\u003c/td\u003e\n      \u003ctd\u003e0\u003c/td\u003e\n      \u003ctd\u003e0.80769\u003c/td\u003e\n      \u003ctd\u003e5.71\u003c/td\u003e\n      \u003ctd\u003e252\u003c/td\u003e\n      \u003ctd\u003e44.133100\u003c/td\u003e\n      \u003ctd\u003e0\u003c/td\u003e\n      \u003ctd\u003e1\u003c/td\u003e\n      \u003ctd\u003e0\u003c/td\u003e\n      \u003ctd\u003e0\u003c/td\u003e\n    \u003c/tr\u003e\n    \u003ctr\u003e\n      \u003cth\u003e4\u003c/th\u003e\n      \u003ctd\u003e1180\u003c/td\u003e\n      \u003ctd\u003e18\u003c/td\u003e\n      \u003ctd\u003e2.61\u003c/td\u003e\n      \u003ctd\u003e0\u003c/td\u003e\n      \u003ctd\u003e0.73529\u003c/td\u003e\n      \u003ctd\u003e2.14\u003c/td\u003e\n      \u003ctd\u003e86\u003c/td\u003e\n      \u003ctd\u003e40.186920\u003c/td\u003e\n      \u003ctd\u003e0\u003c/td\u003e\n      \u003ctd\u003e1\u003c/td\u003e\n      \u003ctd\u003e0\u003c/td\u003e\n      \u003ctd\u003e0\u003c/td\u003e\n    \u003c/tr\u003e\n    \u003ctr\u003e\n      \u003cth\u003e...\u003c/th\u003e\n      \u003ctd\u003e...\u003c/td\u003e\n      \u003ctd\u003e...\u003c/td\u003e\n      \u003ctd\u003e...\u003c/td\u003e\n      \u003ctd\u003e...\u003c/td\u003e\n      \u003ctd\u003e...\u003c/td\u003e\n      \u003ctd\u003e...\u003c/td\u003e\n      \u003ctd\u003e...\u003c/td\u003e\n      \u003ctd\u003e...\u003c/td\u003e\n      \u003ctd\u003e...\u003c/td\u003e\n      \u003ctd\u003e...\u003c/td\u003e\n      \u003ctd\u003e...\u003c/td\u003e\n      \u003ctd\u003e...\u003c/td\u003e\n    \u003c/tr\u003e\n    \u003ctr\u003e\n      \u003cth\u003e4132\u003c/th\u003e\n      \u003ctd\u003e990\u003c/td\u003e\n      \u003ctd\u003e49\u003c/td\u003e\n      \u003ctd\u003e2.24\u003c/td\u003e\n      \u003ctd\u003e0\u003c/td\u003e\n      \u003ctd\u003e1.02041\u003c/td\u003e\n      \u003ctd\u003e2.33\u003c/td\u003e\n      \u003ctd\u003e89\u003c/td\u003e\n      \u003ctd\u003e38.197430\u003c/td\u003e\n      \u003ctd\u003e1\u003c/td\u003e\n      \u003ctd\u003e1\u003c/td\u003e\n      \u003ctd\u003e0\u003c/td\u003e\n      \u003ctd\u003e0\u003c/td\u003e\n    \u003c/tr\u003e\n    \u003ctr\u003e\n      \u003cth\u003e4133\u003c/th\u003e\n      \u003ctd\u003e900\u003c/td\u003e\n      \u003ctd\u003e50\u003c/td\u003e\n      \u003ctd\u003e2.46\u003c/td\u003e\n      \u003ctd\u003e0\u003c/td\u003e\n      \u003ctd\u003e0.95652\u003c/td\u003e\n      \u003ctd\u003e0.10\u003c/td\u003e\n      \u003ctd\u003e2\u003c/td\u003e\n      \u003ctd\u003e20.000000\u003c/td\u003e\n      \u003ctd\u003e1\u003c/td\u003e\n      \u003ctd\u003e1\u003c/td\u003e\n      \u003ctd\u003e0\u003c/td\u003e\n      \u003ctd\u003e0\u003c/td\u003e\n    \u003c/tr\u003e\n    \u003ctr\u003e\n      \u003cth\u003e4134\u003c/th\u003e\n      \u003ctd\u003e1340\u003c/td\u003e\n      \u003ctd\u003e62\u003c/td\u003e\n      \u003ctd\u003e4.00\u003c/td\u003e\n      \u003ctd\u003e0\u003c/td\u003e\n      \u003ctd\u003e0.94203\u003c/td\u003e\n      \u003ctd\u003e0.45\u003c/td\u003e\n      \u003ctd\u003e1\u003c/td\u003e\n      \u003ctd\u003e2.222222\u003c/td\u003e\n      \u003ctd\u003e0\u003c/td\u003e\n      \u003ctd\u003e1\u003c/td\u003e\n      \u003ctd\u003e0\u003c/td\u003e\n      \u003ctd\u003e0\u003c/td\u003e\n    \u003c/tr\u003e\n    \u003ctr\u003e\n      \u003cth\u003e4135\u003c/th\u003e\n      \u003ctd\u003e980\u003c/td\u003e\n      \u003ctd\u003e12\u003c/td\u003e\n      \u003ctd\u003e2.83\u003c/td\u003e\n      \u003ctd\u003e0\u003c/td\u003e\n      \u003ctd\u003e0.68966\u003c/td\u003e\n      \u003ctd\u003e0.35\u003c/td\u003e\n      \u003ctd\u003e23\u003c/td\u003e\n      \u003ctd\u003e65.714290\u003c/td\u003e\n      \u003ctd\u003e1\u003c/td\u003e\n      \u003ctd\u003e1\u003c/td\u003e\n      \u003ctd\u003e0\u003c/td\u003e\n      \u003ctd\u003e0\u003c/td\u003e\n    \u003c/tr\u003e\n    \u003ctr\u003e\n      \u003cth\u003e4136\u003c/th\u003e\n      \u003ctd\u003e1420\u003c/td\u003e\n      \u003ctd\u003e128\u003c/td\u003e\n      \u003ctd\u003e3.94\u003c/td\u003e\n      \u003ctd\u003e0\u003c/td\u003e\n      \u003ctd\u003e0.91892\u003c/td\u003e\n      \u003ctd\u003e3.13\u003c/td\u003e\n      \u003ctd\u003e38\u003c/td\u003e\n      \u003ctd\u003e12.140580\u003c/td\u003e\n      \u003ctd\u003e0\u003c/td\u003e\n      \u003ctd\u003e1\u003c/td\u003e\n      \u003ctd\u003e0\u003c/td\u003e\n      \u003ctd\u003e0\u003c/td\u003e\n    \u003c/tr\u003e\n  \u003c/tbody\u003e\n\u003c/table\u003e\n\u003cp\u003e4137 rows × 12 columns\u003c/p\u003e\n\u003c/div\u003e",
                        "text/plain": "       sat  tothrs  colgpa  athlete  verbmath  hsize  hsrank     hsperc  \\\n0      920      43    2.04        1   0.48387   0.10       4  40.000000   \n1     1170      18    4.00        0   0.82813   9.40     191  20.319150   \n2      810      14    1.78        1   0.88372   1.19      42  35.294120   \n3      940      40    2.42        0   0.80769   5.71     252  44.133100   \n4     1180      18    2.61        0   0.73529   2.14      86  40.186920   \n...    ...     ...     ...      ...       ...    ...     ...        ...   \n4132   990      49    2.24        0   1.02041   2.33      89  38.197430   \n4133   900      50    2.46        0   0.95652   0.10       2  20.000000   \n4134  1340      62    4.00        0   0.94203   0.45       1   2.222222   \n4135   980      12    2.83        0   0.68966   0.35      23  65.714290   \n4136  1420     128    3.94        0   0.91892   3.13      38  12.140580   \n\n      female  white  black  minority  \n0          1      0      0         1  \n1          0      1      0         0  \n2          0      1      0         0  \n3          0      1      0         0  \n4          0      1      0         0  \n...      ...    ...    ...       ...  \n4132       1      1      0         0  \n4133       1      1      0         0  \n4134       0      1      0         0  \n4135       1      1      0         0  \n4136       0      1      0         0  \n\n[4137 rows x 12 columns]"
                    },
                    "execution_count": 1069,
                    "metadata": {},
                    "output_type": "execute_result"
                }
            ],
            "source": [
                "gpa=pd.read_csv(\"gpa.csv\")\n",
                "gpa "
            ]
        },
        {
            "attachments": {},
            "cell_type": "markdown",
            "metadata": {},
            "source": [
                "## Q1. [14 points]\n",
                "\n",
                " \n",
                "\n",
                "Randomly sample 500 students **without replacement** from the original dataset based on `DataFrame.sample()` method. Use `random_state=300`.\n",
                "\n",
                "Using only the information of these 500 students, test the following hypothesis using $\\alpha=0.05$: \n",
                "\n",
                "*The average GPA of the students from this university is lower than 3.*\n",
                "\n",
                "In your answer, provide the following information\n",
                "\n",
                "1.   Null hypothesis/Alternative hypothesis\n",
                "2.   Test the hypothesis based on 1000 rounds of simulation using Bootstrapping. \n",
                "3.   Visualize the distribution of the sample statistics from simulation, the rejection region(s), and the observed statistics in the same graph.\n",
                "4.   Provide the conclusion.\n",
                " "
            ]
        },
        {
            "cell_type": "code",
            "execution_count": 1070,
            "metadata": {},
            "outputs": [
                {
                    "data": {
                        "text/plain": "colgpa    2.652686\ndtype: float64"
                    },
                    "execution_count": 1070,
                    "metadata": {},
                    "output_type": "execute_result"
                }
            ],
            "source": [
                "gpa[['colgpa']].mean()"
            ]
        },
        {
            "attachments": {},
            "cell_type": "markdown",
            "metadata": {},
            "source": [
                "Null hypothesis:$\\mu \\geq 3$\n",
                "Alternate hypothesis:  $\\mu \u003c 3$"
            ]
        },
        {
            "cell_type": "code",
            "execution_count": 1071,
            "metadata": {},
            "outputs": [],
            "source": [
                "subset=gpa.sample(n=500,replace=False,random_state=300)\n",
                "avg=subset[[\"colgpa\"]].mean()"
            ]
        },
        {
            "cell_type": "code",
            "execution_count": 1072,
            "metadata": {},
            "outputs": [
                {
                    "data": {
                        "text/plain": "2.684540000000001"
                    },
                    "execution_count": 1072,
                    "metadata": {},
                    "output_type": "execute_result"
                }
            ],
            "source": [
                "samples=subset.colgpa\n",
                "samples_adj=samples-np.mean(samples)+3\n",
                "observed_s=np.mean(samples)\n",
                "observed_s\n",
                "#np.mean(samples_adj)"
            ]
        },
        {
            "cell_type": "code",
            "execution_count": 1073,
            "metadata": {},
            "outputs": [],
            "source": [
                "def sampling():\n",
                "    samples_new=np.random.choice(samples_adj, size=500)\n",
                "    return np.mean(samples_new)"
            ]
        },
        {
            "cell_type": "code",
            "execution_count": 1074,
            "metadata": {},
            "outputs": [],
            "source": [
                "stats=[sampling() for i in range(1000)]"
            ]
        },
        {
            "cell_type": "code",
            "execution_count": 1075,
            "metadata": {},
            "outputs": [
                {
                    "data": {
                        "image/png": "[encoded data removed]",
                        "text/plain": "\u003cFigure size 432x288 with 1 Axes\u003e"
                    },
                    "metadata": {
                        "needs_background": "light"
                    },
                    "output_type": "display_data"
                }
            ],
            "source": [
                "plt.hist(stats,bins=30, density=True)\n",
                "cutoffs=np.percentile(stats,5)\n",
                "plt.vlines(cutoffs, 0, 20,color=\"red\",lw= 2 )\n",
                "plt.scatter(avg,0,c='pink',s=100,zorder=300,clip_on=False) #weird cutoff\n",
                "plt.show()\n",
                "\n",
                "#plt.show()"
            ]
        },
        {
            "cell_type": "code",
            "execution_count": 1076,
            "metadata": {},
            "outputs": [
                {
                    "name": "stdout",
                    "output_type": "stream",
                    "text": "we reject our null hypothesis\nwe have enough evidence to suggest that the average gpa of students is lower than 3\n"
                }
            ],
            "source": [
                "if observed_s\u003c=np.percentile(stats,5):\n",
                "    print(\"we reject our null hypothesis\")\n",
                "    print(\"we have enough evidence to suggest that the average gpa of students is lower than 3\")\n",
                "else:\n",
                "     print(\"we fail to reject our null hypothesis\") \n",
                "     print(\"we don't have enough evidence to suggest that the average gpa of students is not lower than 3\") "
            ]
        },
        {
            "attachments": {},
            "cell_type": "markdown",
            "metadata": {},
            "source": [
                "## Q2. [14 points]\n",
                "\n",
                "Randomly sample 500 students **without replacement** from the original dataset based on `DataFrame.sample()` method. Use `random_state=300`.\n",
                "\n",
                "Using only the information of these 500 students, test the following hypothesis using $\\alpha=0.05$: \n",
                "\n",
                "*There is a difference between the average GPA of athletes and the average GPA non-athletes in this university*\n",
                "\n",
                "In your answer, provide the following information\n",
                "\n",
                "1.   Null hypothesis/Alternative hypothesis\n",
                "2.   Test the hypothesis based on 1000 rounds of simulation based on Bootstrapping. \n",
                "3.   Visualize the distribution of the sample statistics from simulation, the rejection region(s), and the observed statistics in the same graph.\n",
                "4.   Provide the conclusion."
            ]
        },
        {
            "cell_type": "code",
            "execution_count": 1077,
            "metadata": {},
            "outputs": [
                {
                    "data": {
                        "text/html": "\u003cdiv\u003e\n\u003cstyle scoped\u003e\n    .dataframe tbody tr th:only-of-type {\n        vertical-align: middle;\n    }\n\n    .dataframe tbody tr th {\n        vertical-align: top;\n    }\n\n    .dataframe thead th {\n        text-align: right;\n    }\n\u003c/style\u003e\n\u003ctable border=\"1\" class=\"dataframe\"\u003e\n  \u003cthead\u003e\n    \u003ctr style=\"text-align: right;\"\u003e\n      \u003cth\u003e\u003c/th\u003e\n      \u003cth\u003esat\u003c/th\u003e\n      \u003cth\u003etothrs\u003c/th\u003e\n      \u003cth\u003ecolgpa\u003c/th\u003e\n      \u003cth\u003eathlete\u003c/th\u003e\n      \u003cth\u003everbmath\u003c/th\u003e\n      \u003cth\u003ehsize\u003c/th\u003e\n      \u003cth\u003ehsrank\u003c/th\u003e\n      \u003cth\u003ehsperc\u003c/th\u003e\n      \u003cth\u003efemale\u003c/th\u003e\n      \u003cth\u003ewhite\u003c/th\u003e\n      \u003cth\u003eblack\u003c/th\u003e\n      \u003cth\u003eminority\u003c/th\u003e\n    \u003c/tr\u003e\n  \u003c/thead\u003e\n  \u003ctbody\u003e\n    \u003ctr\u003e\n      \u003cth\u003e2378\u003c/th\u003e\n      \u003ctd\u003e1190\u003c/td\u003e\n      \u003ctd\u003e76\u003c/td\u003e\n      \u003ctd\u003e3.43\u003c/td\u003e\n      \u003ctd\u003e0\u003c/td\u003e\n      \u003ctd\u003e0.67606\u003c/td\u003e\n      \u003ctd\u003e2.83\u003c/td\u003e\n      \u003ctd\u003e8\u003c/td\u003e\n      \u003ctd\u003e2.826855\u003c/td\u003e\n      \u003ctd\u003e0\u003c/td\u003e\n      \u003ctd\u003e1\u003c/td\u003e\n      \u003ctd\u003e0\u003c/td\u003e\n      \u003ctd\u003e0\u003c/td\u003e\n    \u003c/tr\u003e\n    \u003ctr\u003e\n      \u003cth\u003e3454\u003c/th\u003e\n      \u003ctd\u003e1090\u003c/td\u003e\n      \u003ctd\u003e51\u003c/td\u003e\n      \u003ctd\u003e3.47\u003c/td\u003e\n      \u003ctd\u003e0\u003c/td\u003e\n      \u003ctd\u003e0.84746\u003c/td\u003e\n      \u003ctd\u003e2.46\u003c/td\u003e\n      \u003ctd\u003e19\u003c/td\u003e\n      \u003ctd\u003e7.723577\u003c/td\u003e\n      \u003ctd\u003e0\u003c/td\u003e\n      \u003ctd\u003e1\u003c/td\u003e\n      \u003ctd\u003e0\u003c/td\u003e\n      \u003ctd\u003e0\u003c/td\u003e\n    \u003c/tr\u003e\n    \u003ctr\u003e\n      \u003cth\u003e2447\u003c/th\u003e\n      \u003ctd\u003e840\u003c/td\u003e\n      \u003ctd\u003e124\u003c/td\u003e\n      \u003ctd\u003e2.62\u003c/td\u003e\n      \u003ctd\u003e0\u003c/td\u003e\n      \u003ctd\u003e0.82609\u003c/td\u003e\n      \u003ctd\u003e5.39\u003c/td\u003e\n      \u003ctd\u003e124\u003c/td\u003e\n      \u003ctd\u003e23.005570\u003c/td\u003e\n      \u003ctd\u003e1\u003c/td\u003e\n      \u003ctd\u003e1\u003c/td\u003e\n      \u003ctd\u003e0\u003c/td\u003e\n      \u003ctd\u003e0\u003c/td\u003e\n    \u003c/tr\u003e\n    \u003ctr\u003e\n      \u003cth\u003e2703\u003c/th\u003e\n      \u003ctd\u003e1180\u003c/td\u003e\n      \u003ctd\u003e14\u003c/td\u003e\n      \u003ctd\u003e1.50\u003c/td\u003e\n      \u003ctd\u003e1\u003c/td\u003e\n      \u003ctd\u003e0.81538\u003c/td\u003e\n      \u003ctd\u003e7.71\u003c/td\u003e\n      \u003ctd\u003e481\u003c/td\u003e\n      \u003ctd\u003e62.386510\u003c/td\u003e\n      \u003ctd\u003e0\u003c/td\u003e\n      \u003ctd\u003e1\u003c/td\u003e\n      \u003ctd\u003e0\u003c/td\u003e\n      \u003ctd\u003e0\u003c/td\u003e\n    \u003c/tr\u003e\n    \u003ctr\u003e\n      \u003cth\u003e2979\u003c/th\u003e\n      \u003ctd\u003e960\u003c/td\u003e\n      \u003ctd\u003e19\u003c/td\u003e\n      \u003ctd\u003e2.78\u003c/td\u003e\n      \u003ctd\u003e0\u003c/td\u003e\n      \u003ctd\u003e0.60000\u003c/td\u003e\n      \u003ctd\u003e0.20\u003c/td\u003e\n      \u003ctd\u003e7\u003c/td\u003e\n      \u003ctd\u003e35.000000\u003c/td\u003e\n      \u003ctd\u003e0\u003c/td\u003e\n      \u003ctd\u003e1\u003c/td\u003e\n      \u003ctd\u003e0\u003c/td\u003e\n      \u003ctd\u003e0\u003c/td\u003e\n    \u003c/tr\u003e\n    \u003ctr\u003e\n      \u003cth\u003e...\u003c/th\u003e\n      \u003ctd\u003e...\u003c/td\u003e\n      \u003ctd\u003e...\u003c/td\u003e\n      \u003ctd\u003e...\u003c/td\u003e\n      \u003ctd\u003e...\u003c/td\u003e\n      \u003ctd\u003e...\u003c/td\u003e\n      \u003ctd\u003e...\u003c/td\u003e\n      \u003ctd\u003e...\u003c/td\u003e\n      \u003ctd\u003e...\u003c/td\u003e\n      \u003ctd\u003e...\u003c/td\u003e\n      \u003ctd\u003e...\u003c/td\u003e\n      \u003ctd\u003e...\u003c/td\u003e\n      \u003ctd\u003e...\u003c/td\u003e\n    \u003c/tr\u003e\n    \u003ctr\u003e\n      \u003cth\u003e2037\u003c/th\u003e\n      \u003ctd\u003e900\u003c/td\u003e\n      \u003ctd\u003e16\u003c/td\u003e\n      \u003ctd\u003e1.81\u003c/td\u003e\n      \u003ctd\u003e0\u003c/td\u003e\n      \u003ctd\u003e1.04545\u003c/td\u003e\n      \u003ctd\u003e0.78\u003c/td\u003e\n      \u003ctd\u003e6\u003c/td\u003e\n      \u003ctd\u003e7.692307\u003c/td\u003e\n      \u003ctd\u003e1\u003c/td\u003e\n      \u003ctd\u003e0\u003c/td\u003e\n      \u003ctd\u003e1\u003c/td\u003e\n      \u003ctd\u003e0\u003c/td\u003e\n    \u003c/tr\u003e\n    \u003ctr\u003e\n      \u003cth\u003e2245\u003c/th\u003e\n      \u003ctd\u003e890\u003c/td\u003e\n      \u003ctd\u003e70\u003c/td\u003e\n      \u003ctd\u003e2.47\u003c/td\u003e\n      \u003ctd\u003e0\u003c/td\u003e\n      \u003ctd\u003e0.85417\u003c/td\u003e\n      \u003ctd\u003e1.06\u003c/td\u003e\n      \u003ctd\u003e14\u003c/td\u003e\n      \u003ctd\u003e13.207550\u003c/td\u003e\n      \u003ctd\u003e0\u003c/td\u003e\n      \u003ctd\u003e1\u003c/td\u003e\n      \u003ctd\u003e0\u003c/td\u003e\n      \u003ctd\u003e0\u003c/td\u003e\n    \u003c/tr\u003e\n    \u003ctr\u003e\n      \u003cth\u003e747\u003c/th\u003e\n      \u003ctd\u003e920\u003c/td\u003e\n      \u003ctd\u003e92\u003c/td\u003e\n      \u003ctd\u003e2.47\u003c/td\u003e\n      \u003ctd\u003e0\u003c/td\u003e\n      \u003ctd\u003e1.19048\u003c/td\u003e\n      \u003ctd\u003e2.11\u003c/td\u003e\n      \u003ctd\u003e60\u003c/td\u003e\n      \u003ctd\u003e28.436020\u003c/td\u003e\n      \u003ctd\u003e1\u003c/td\u003e\n      \u003ctd\u003e1\u003c/td\u003e\n      \u003ctd\u003e0\u003c/td\u003e\n      \u003ctd\u003e0\u003c/td\u003e\n    \u003c/tr\u003e\n    \u003ctr\u003e\n      \u003cth\u003e1568\u003c/th\u003e\n      \u003ctd\u003e1010\u003c/td\u003e\n      \u003ctd\u003e17\u003c/td\u003e\n      \u003ctd\u003e2.41\u003c/td\u003e\n      \u003ctd\u003e0\u003c/td\u003e\n      \u003ctd\u003e0.83636\u003c/td\u003e\n      \u003ctd\u003e2.37\u003c/td\u003e\n      \u003ctd\u003e32\u003c/td\u003e\n      \u003ctd\u003e13.502110\u003c/td\u003e\n      \u003ctd\u003e0\u003c/td\u003e\n      \u003ctd\u003e1\u003c/td\u003e\n      \u003ctd\u003e0\u003c/td\u003e\n      \u003ctd\u003e0\u003c/td\u003e\n    \u003c/tr\u003e\n    \u003ctr\u003e\n      \u003cth\u003e4023\u003c/th\u003e\n      \u003ctd\u003e920\u003c/td\u003e\n      \u003ctd\u003e17\u003c/td\u003e\n      \u003ctd\u003e1.58\u003c/td\u003e\n      \u003ctd\u003e0\u003c/td\u003e\n      \u003ctd\u003e0.73585\u003c/td\u003e\n      \u003ctd\u003e1.30\u003c/td\u003e\n      \u003ctd\u003e27\u003c/td\u003e\n      \u003ctd\u003e20.769230\u003c/td\u003e\n      \u003ctd\u003e1\u003c/td\u003e\n      \u003ctd\u003e1\u003c/td\u003e\n      \u003ctd\u003e0\u003c/td\u003e\n      \u003ctd\u003e0\u003c/td\u003e\n    \u003c/tr\u003e\n  \u003c/tbody\u003e\n\u003c/table\u003e\n\u003cp\u003e500 rows × 12 columns\u003c/p\u003e\n\u003c/div\u003e",
                        "text/plain": "       sat  tothrs  colgpa  athlete  verbmath  hsize  hsrank     hsperc  \\\n2378  1190      76    3.43        0   0.67606   2.83       8   2.826855   \n3454  1090      51    3.47        0   0.84746   2.46      19   7.723577   \n2447   840     124    2.62        0   0.82609   5.39     124  23.005570   \n2703  1180      14    1.50        1   0.81538   7.71     481  62.386510   \n2979   960      19    2.78        0   0.60000   0.20       7  35.000000   \n...    ...     ...     ...      ...       ...    ...     ...        ...   \n2037   900      16    1.81        0   1.04545   0.78       6   7.692307   \n2245   890      70    2.47        0   0.85417   1.06      14  13.207550   \n747    920      92    2.47        0   1.19048   2.11      60  28.436020   \n1568  1010      17    2.41        0   0.83636   2.37      32  13.502110   \n4023   920      17    1.58        0   0.73585   1.30      27  20.769230   \n\n      female  white  black  minority  \n2378       0      1      0         0  \n3454       0      1      0         0  \n2447       1      1      0         0  \n2703       0      1      0         0  \n2979       0      1      0         0  \n...      ...    ...    ...       ...  \n2037       1      0      1         0  \n2245       0      1      0         0  \n747        1      1      0         0  \n1568       0      1      0         0  \n4023       1      1      0         0  \n\n[500 rows x 12 columns]"
                    },
                    "execution_count": 1077,
                    "metadata": {},
                    "output_type": "execute_result"
                }
            ],
            "source": [
                "subset2=gpa.sample(n=500,replace=False,random_state=300)\n",
                "subset2"
            ]
        },
        {
            "attachments": {},
            "cell_type": "markdown",
            "metadata": {},
            "source": [
                "Null hypothesis:There is no difference between athlete gpa and non athlete gpa\n",
                "\n",
                "Alternate hypothesis:There is a difference between athlete gpa and non athlete gpa"
            ]
        },
        {
            "cell_type": "code",
            "execution_count": 1078,
            "metadata": {},
            "outputs": [
                {
                    "name": "stdout",
                    "output_type": "stream",
                    "text": "2.684540000000001\n"
                },
                {
                    "data": {
                        "text/html": "\u003cdiv\u003e\n\u003cstyle scoped\u003e\n    .dataframe tbody tr th:only-of-type {\n        vertical-align: middle;\n    }\n\n    .dataframe tbody tr th {\n        vertical-align: top;\n    }\n\n    .dataframe thead th {\n        text-align: right;\n    }\n\u003c/style\u003e\n\u003ctable border=\"1\" class=\"dataframe\"\u003e\n  \u003cthead\u003e\n    \u003ctr style=\"text-align: right;\"\u003e\n      \u003cth\u003e\u003c/th\u003e\n      \u003cth\u003esat\u003c/th\u003e\n      \u003cth\u003etothrs\u003c/th\u003e\n      \u003cth\u003ecolgpa\u003c/th\u003e\n      \u003cth\u003everbmath\u003c/th\u003e\n      \u003cth\u003ehsize\u003c/th\u003e\n      \u003cth\u003ehsrank\u003c/th\u003e\n      \u003cth\u003ehsperc\u003c/th\u003e\n      \u003cth\u003efemale\u003c/th\u003e\n      \u003cth\u003ewhite\u003c/th\u003e\n      \u003cth\u003eblack\u003c/th\u003e\n      \u003cth\u003eminority\u003c/th\u003e\n    \u003c/tr\u003e\n    \u003ctr\u003e\n      \u003cth\u003eathlete\u003c/th\u003e\n      \u003cth\u003e\u003c/th\u003e\n      \u003cth\u003e\u003c/th\u003e\n      \u003cth\u003e\u003c/th\u003e\n      \u003cth\u003e\u003c/th\u003e\n      \u003cth\u003e\u003c/th\u003e\n      \u003cth\u003e\u003c/th\u003e\n      \u003cth\u003e\u003c/th\u003e\n      \u003cth\u003e\u003c/th\u003e\n      \u003cth\u003e\u003c/th\u003e\n      \u003cth\u003e\u003c/th\u003e\n      \u003cth\u003e\u003c/th\u003e\n    \u003c/tr\u003e\n  \u003c/thead\u003e\n  \u003ctbody\u003e\n    \u003ctr\u003e\n      \u003cth\u003e0\u003c/th\u003e\n      \u003ctd\u003e1035.175258\u003c/td\u003e\n      \u003ctd\u003e50.973196\u003c/td\u003e\n      \u003ctd\u003e2.698392\u003c/td\u003e\n      \u003ctd\u003e0.886201\u003c/td\u003e\n      \u003ctd\u003e2.764454\u003c/td\u003e\n      \u003ctd\u003e49.482474\u003c/td\u003e\n      \u003ctd\u003e18.443256\u003c/td\u003e\n      \u003ctd\u003e0.501031\u003c/td\u003e\n      \u003ctd\u003e0.929897\u003c/td\u003e\n      \u003ctd\u003e0.047423\u003c/td\u003e\n      \u003ctd\u003e0.022680\u003c/td\u003e\n    \u003c/tr\u003e\n    \u003ctr\u003e\n      \u003cth\u003e1\u003c/th\u003e\n      \u003ctd\u003e907.333333\u003c/td\u003e\n      \u003ctd\u003e56.666667\u003c/td\u003e\n      \u003ctd\u003e2.236667\u003c/td\u003e\n      \u003ctd\u003e0.846721\u003c/td\u003e\n      \u003ctd\u003e3.602000\u003c/td\u003e\n      \u003ctd\u003e128.533333\u003c/td\u003e\n      \u003ctd\u003e33.741041\u003c/td\u003e\n      \u003ctd\u003e0.133333\u003c/td\u003e\n      \u003ctd\u003e0.600000\u003c/td\u003e\n      \u003ctd\u003e0.333333\u003c/td\u003e\n      \u003ctd\u003e0.066667\u003c/td\u003e\n    \u003c/tr\u003e\n  \u003c/tbody\u003e\n\u003c/table\u003e\n\u003c/div\u003e",
                        "text/plain": "                 sat     tothrs    colgpa  verbmath     hsize      hsrank  \\\nathlete                                                                     \n0        1035.175258  50.973196  2.698392  0.886201  2.764454   49.482474   \n1         907.333333  56.666667  2.236667  0.846721  3.602000  128.533333   \n\n            hsperc    female     white     black  minority  \nathlete                                                     \n0        18.443256  0.501031  0.929897  0.047423  0.022680  \n1        33.741041  0.133333  0.600000  0.333333  0.066667  "
                    },
                    "execution_count": 1078,
                    "metadata": {},
                    "output_type": "execute_result"
                }
            ],
            "source": [
                "df=subset2.groupby(by=\"athlete\").mean()\n",
                "print(subset2.colgpa.mean())\n",
                "diff=2.698392-2.236667\n",
                "diff_neg=2.236667-2.698392\n",
                "#print(diff)\n",
                "df"
            ]
        },
        {
            "cell_type": "code",
            "execution_count": 1079,
            "metadata": {},
            "outputs": [],
            "source": [
                "def examine(column_n):\n",
                "    combined=subset.loc[:,column_n].values\n",
                "    athlete=subset2[subset2.athlete==1].loc[:,column_n].values\n",
                "    nonathlete=subset2[subset2.athlete==0].loc[:,column_n].values\n",
                "    athlete_adj=athlete-np.mean(athlete)+np.mean(combined)\n",
                "    nonathlete_adj=nonathlete-np.mean(nonathlete)+np.mean(combined)\n",
                "    return athlete_adj,nonathlete_adj,np.mean(athlete)-np.mean(nonathlete)\n",
                "athlete_adj,nonathlete_adj,observed=examine(\"colgpa\")    "
            ]
        },
        {
            "cell_type": "code",
            "execution_count": 1080,
            "metadata": {},
            "outputs": [],
            "source": [
                "def sampling():\n",
                "    athlete_n=np.random.choice(athlete_adj,size=len(athlete_adj))\n",
                "    nonathlete_n=np.random.choice(nonathlete_adj,size=len(nonathlete_adj))\n",
                "    return np.mean(athlete_n)-np.mean(nonathlete_n)"
            ]
        },
        {
            "cell_type": "code",
            "execution_count": 1081,
            "metadata": {},
            "outputs": [],
            "source": [
                "var=[sampling()for i in range(1000)]"
            ]
        },
        {
            "cell_type": "code",
            "execution_count": 1082,
            "metadata": {},
            "outputs": [
                {
                    "data": {
                        "image/png": "[encoded data removed]",
                        "text/plain": "\u003cFigure size 432x288 with 1 Axes\u003e"
                    },
                    "metadata": {
                        "needs_background": "light"
                    },
                    "output_type": "display_data"
                }
            ],
            "source": [
                "plt.hist(var,bins=20,density=True)\n",
                "cuttoffs=np.percentile(var,[5,95])\n",
                "plt.vlines(cuttoffs,0,2.5,color=\"red\",lw=0.5)\n",
                "plt.scatter(diff,0,c='pink',s=100,zorder=300,clip_on=False)\n",
                "plt.scatter(diff_neg,0,c='pink',s=100,zorder=300,clip_on=False)\n",
                "plt.show()"
            ]
        },
        {
            "cell_type": "code",
            "execution_count": 1083,
            "metadata": {},
            "outputs": [
                {
                    "name": "stdout",
                    "output_type": "stream",
                    "text": "-0.2453642611683851 -0.46172508591065275\nWe reject the null hypothesis\nWe have sufficient evidence to suggest that there is a difference between athlete and non-athlete gpa \n"
                }
            ],
            "source": [
                "print(np.percentile(var,5),observed)\n",
                "if observed\u003c=np.percentile(var,5):\n",
                "    print(\"We reject the null hypothesis\")\n",
                "    print(\"We have sufficient evidence to suggest that there is a difference between athlete and non-athlete gpa \")\n",
                "else:\n",
                "    print(\"We fail to reject the null hypothesis \")\n",
                "    print(\"We don't have enough evidence to suggest that there is a difference between athlete and non-athlete gpa\")"
            ]
        },
        {
            "cell_type": "code",
            "execution_count": 1084,
            "metadata": {},
            "outputs": [
                {
                    "name": "stdout",
                    "output_type": "stream",
                    "text": "0.25227903780068656 0.46172508591065275\nWe reject the null hypothesis\nWe have sufficient evidence to suggest that there is a difference between athlete and non-athlete gpa \n"
                }
            ],
            "source": [
                "observed=observed*-1\n",
                "print(np.percentile(var,95),observed)\n",
                "if observed\u003e=np.percentile(var,95):\n",
                "    print(\"We reject the null hypothesis\")\n",
                "    print(\"We have sufficient evidence to suggest that there is a difference between athlete and non-athlete gpa \")\n",
                "else:\n",
                "    print(\"We fail to reject the null hypothesis \")\n",
                "    print(\"We don't have enough evidence to suggest that there is a difference between athlete and non-athlete gpa\")"
            ]
        },
        {
            "attachments": {},
            "cell_type": "markdown",
            "metadata": {},
            "source": [
                "## Q3. [6 Points]\n",
                "\n",
                "For this question, let's use the full dataset again.\n",
                "\n",
                "\n",
                "* Split the data into three components:\n",
                "\n",
                "\u003e * First, randomly select 3000 samples from the original dataset as the training set using `train_test_split`. Use random_state=30. Do not shuffle the data. \n",
                "\n",
                "\u003e * Next, from the rest of the data, randomly select 500 samples as the validation using `train_test_split`. Use random_state=40. Do not shuffle the data. \n",
                "\n",
                "\u003e * The observations that are left will be used as the testing set. \n",
                "\n",
                "* Report the average value of `sat` column for  each set of data.\n",
                ""
            ]
        },
        {
            "cell_type": "code",
            "execution_count": 1085,
            "metadata": {},
            "outputs": [],
            "source": [
                "#gpa.sample(n=3000,replace=False,random_state=300)"
            ]
        },
        {
            "cell_type": "code",
            "execution_count": 1086,
            "metadata": {},
            "outputs": [
                {
                    "data": {
                        "text/plain": "(1017.52, 1034.392, 1027.0360598065083)"
                    },
                    "execution_count": 1086,
                    "metadata": {},
                    "output_type": "execute_result"
                }
            ],
            "source": [
                "train,test=train_test_split(gpa,train_size=3000,shuffle=False,random_state=30)\n",
                "train,validation=train_test_split(train,shuffle=False,test_size=500,random_state=40)\n",
                "#print(\"train:\",train)\n",
                "#print(\"test:\",test)\n",
                "#print(\"validation:\", validation)\n",
                "validation.sat.mean(),train.sat.mean(),test.sat.mean()\n",
                "\n",
                ""
            ]
        },
        {
            "cell_type": "code",
            "execution_count": 1087,
            "metadata": {},
            "outputs": [],
            "source": [
                ""
            ]
        },
        {
            "attachments": {},
            "cell_type": "markdown",
            "metadata": {},
            "source": [
                "## Q4. [16 Points]\n",
                "\n",
                "Using the 3 datasets you created in Q3, select the best model of the following three for prediction of college GPA.\n",
                "\n",
                "Model1:\n",
                "$$colgpa=\\beta_0+\\beta_1 sat +\\epsilon$$\n",
                "\n",
                "Model 2:\n",
                "$$colgpa=\\beta_0+\\beta_1 sat +\\beta_2 tothrs +\\epsilon$$\n",
                "\n",
                "Model 3:\n",
                "\n",
                "$$colgpa=\\beta_0+\\beta_1 sat +\\beta_2 tothrs +\\beta_3 verbmath+\\epsilon$$\n",
                "\n",
                "\n",
                "\n",
                "* Train each model on the training set, report RMSE on the validation set for each model. Choose the model that gives the lowest RMSE as the best model. \n",
                "* Use the best model to predict the outcome on the testing set. Use scatter plot to present the relationship between the actual outcome (x-axis) and the predicted value (y-axis). In the same graph, add a line plot starting from (0,0) to (4,4). Based on the graph, comment on how well the model predicts the GPA. \n",
                "* If a person has tothrs=40, sat=1000,verbmath=0.5, based on the best model, calculate the predicted GPA?"
            ]
        },
        {
            "cell_type": "code",
            "execution_count": 1088,
            "metadata": {},
            "outputs": [],
            "source": [
                "var=train.values"
            ]
        },
        {
            "cell_type": "code",
            "execution_count": 1089,
            "metadata": {},
            "outputs": [],
            "source": [
                "X=var[:,[0]]\n",
                "y=var[:,2]\n",
                "model1=LinearRegression().fit(X,y)"
            ]
        },
        {
            "cell_type": "code",
            "execution_count": 1090,
            "metadata": {},
            "outputs": [],
            "source": [
                "X=var[:,[0,1]]\n",
                "y=var[:,2]\n",
                "model2=LinearRegression().fit(X,y)"
            ]
        },
        {
            "cell_type": "code",
            "execution_count": 1091,
            "metadata": {},
            "outputs": [],
            "source": [
                "X=var[:,[0,1,4]]\n",
                "y=var[:,2]\n",
                "model3=LinearRegression().fit(X,y)"
            ]
        },
        {
            "cell_type": "code",
            "execution_count": 1092,
            "metadata": {},
            "outputs": [],
            "source": [
                "#RSME\n",
                "validation=validation.values\n",
                "one=np.mean((model1.predict(validation[:,[0]])-validation[:,2])**2)**0.5"
            ]
        },
        {
            "cell_type": "code",
            "execution_count": 1093,
            "metadata": {},
            "outputs": [],
            "source": [
                "two=np.mean((model2.predict(validation[:,[0,1]])-validation[:,2])**2)**0.5"
            ]
        },
        {
            "cell_type": "code",
            "execution_count": 1094,
            "metadata": {},
            "outputs": [],
            "source": [
                "three=np.mean((model3.predict(validation[:,[0,1,4]])-validation[:,2])**2)**0.5"
            ]
        },
        {
            "cell_type": "code",
            "execution_count": 1095,
            "metadata": {},
            "outputs": [
                {
                    "name": "stdout",
                    "output_type": "stream",
                    "text": "RSME 1: 0.6063253803545715\nRSME 2: 0.5956127530003608\nRSME 3: 0.5957805183529497\nModel two has the smallest RSME\n"
                }
            ],
            "source": [
                "print(\"RSME 1:\",one)\n",
                "print(\"RSME 2:\",two)\n",
                "print(\"RSME 3:\",three)\n",
                "print(\"Model two has the smallest RSME\")"
            ]
        },
        {
            "cell_type": "code",
            "execution_count": 1096,
            "metadata": {},
            "outputs": [],
            "source": [
                "actual=test[\"colgpa\"]\n",
                "predicted=model2.predict(test[[\"sat\",\"tothrs\"]])"
            ]
        },
        {
            "cell_type": "code",
            "execution_count": 1097,
            "metadata": {},
            "outputs": [
                {
                    "data": {
                        "image/png": "[encoded data removed]",
                        "text/plain": "\u003cFigure size 432x288 with 1 Axes\u003e"
                    },
                    "metadata": {
                        "needs_background": "light"
                    },
                    "output_type": "display_data"
                }
            ],
            "source": [
                "plt.scatter(actual,predicted)\n",
                "plt.plot(np.array([0,4]),np.array([0,4]),color=\"black\")\n",
                "plt.xlabel(\"actual outcomes\")\n",
                "plt.ylabel(\"predicted outcomes\")\n",
                "plt.show()"
            ]
        },
        {
            "attachments": {},
            "cell_type": "markdown",
            "metadata": {},
            "source": [
                "The model does not predict the gpa very well because the line is shown where the actual and predicted outcomes are equal and not a lot of points lie on this line meaning there is not a lot of interesection between the actual and predicted outcomes"
            ]
        },
        {
            "cell_type": "code",
            "execution_count": 1098,
            "metadata": {},
            "outputs": [
                {
                    "name": "stdout",
                    "output_type": "stream",
                    "text": "2.58695551030301\n"
                }
            ],
            "source": [
                "print(model2.predict([[1000,40]])[0])"
            ]
        },
        {
            "attachments": {},
            "cell_type": "markdown",
            "metadata": {},
            "source": [
                "## Q5 [10 Points]\n",
                "\n",
                "Free 10 Points as a reward for your hard work in the past semester. Best luck with your final exams."
            ]
        },
        {
            "cell_type": "code",
            "execution_count": 1099,
            "metadata": {},
            "outputs": [],
            "source": [
                "#Thank you! :)"
            ]
        }
    ]
}
